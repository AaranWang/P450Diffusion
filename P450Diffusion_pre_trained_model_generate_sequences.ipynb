{
 "cells": [
  {
   "cell_type": "code",
   "execution_count": null,
   "id": "5bf67d1c",
   "metadata": {},
   "outputs": [],
   "source": [
    "import os\n",
    "os.environ['CUDA_VISIBLE_DEVICES']=\"0\""
   ]
  },
  {
   "cell_type": "markdown",
   "id": "54a09be5",
   "metadata": {},
   "source": [
    "#### 定义采样生成序列的函数"
   ]
  },
  {
   "cell_type": "code",
   "execution_count": null,
   "id": "5abf7373",
   "metadata": {},
   "outputs": [],
   "source": [
    "import os\n",
    "import torch\n",
    "import torch.nn as nn\n",
    "from matplotlib import pyplot as plt\n",
    "from torch import optim\n",
    "from tqdm import tqdm\n",
    "import logging\n",
    "from torch.utils.tensorboard import SummaryWriter\n",
    "\n",
    "from utils import *\n",
    "from modules import UNet\n",
    "from torch.cuda.amp import autocast, GradScaler\n",
    "from torch.optim.lr_scheduler import StepLR\n",
    "\n",
    "logging.basicConfig(format=\"%(asctime)s - %(levelname)s: %(message)s\", level=logging.INFO, datefmt=\"%H:%M:%S\")\n",
    "\n",
    "\n",
    "class Diffusion:\n",
    "    def __init__(self, noise_steps=1000, beta_start=1e-4, beta_end=0.02, protein_high=560, protein_width=8, device=\"cuda\"):\n",
    "        self.noise_steps = noise_steps\n",
    "        self.beta_start = beta_start\n",
    "        self.beta_end = beta_end\n",
    "        self.protein_high = protein_high\n",
    "        self.protein_width = protein_width\n",
    "        self.device = device\n",
    "\n",
    "        self.beta = self.prepare_noise_schedule().to(device)\n",
    "        self.alpha = 1. - self.beta\n",
    "        self.alpha_hat = torch.cumprod(self.alpha, dim=0)  \n",
    "\n",
    "    def prepare_noise_schedule(self):\n",
    "        return torch.linspace(self.beta_start, self.beta_end, self.noise_steps)\n",
    "\n",
    "    def noise_images(self, x, t):\n",
    "        sqrt_alpha_hat = torch.sqrt(self.alpha_hat[t])[:, None, None, None]  \n",
    "        sqrt_one_minus_alpha_hat = torch.sqrt(1. - self.alpha_hat[t])[:, None, None, None] \n",
    "        ε = torch.randn_like(x)  \n",
    "        return sqrt_alpha_hat * x + sqrt_one_minus_alpha_hat * ε, ε\n",
    "\n",
    "\n",
    "    def sample_timesteps(self, n):\n",
    "        return torch.randint(low=1, high=self.noise_steps, size=(n,))\n",
    "\n",
    "    # 采样生成序列\n",
    "    def sample(self, model, n):\n",
    "        logging.info(f\"Sampling {n} new sequences......\")\n",
    "        model.eval()\n",
    "        with torch.no_grad():\n",
    "            x = torch.randn((n, 1, self.protein_high, self.protein_width)).to(self.device) \n",
    "            for i in tqdm(reversed(range(1, self.noise_steps)), position=0):    \n",
    "                t = (torch.ones(n) * i).long().to(self.device)      \n",
    "                predicted_noise = model(x, t)     \n",
    "                alpha = self.alpha[t][:, None, None, None]\n",
    "                alpha_hat = self.alpha_hat[t][:, None, None, None]\n",
    "                beta = self.beta[t][:, None, None, None]\n",
    "                if i > 1:\n",
    "                    noise = torch.randn_like(x)\n",
    "                else:\n",
    "                    noise = torch.zeros_like(x)\n",
    "                x = 1 / torch.sqrt(alpha) * (x - ((1 - alpha) / (torch.sqrt(1 - alpha_hat))) * predicted_noise) + torch.sqrt(beta) * noise\n",
    "\n",
    "        model.train()\n",
    "        return x\n"
   ]
  },
  {
   "cell_type": "markdown",
   "id": "f523085b",
   "metadata": {},
   "source": [
    "#### 使用训练好的模型进行采样，循环生成序列并保存到fasta文件中去"
   ]
  },
  {
   "cell_type": "code",
   "execution_count": null,
   "id": "b37a2c33",
   "metadata": {},
   "outputs": [],
   "source": [
    "import os\n",
    "import torch\n",
    "import torch.nn as nn\n",
    "from matplotlib import pyplot as plt\n",
    "from torch import optim\n",
    "from tqdm import tqdm\n",
    "import logging\n",
    "from torch.utils.tensorboard import SummaryWriter\n",
    "\n",
    "from utils import *\n",
    "from modules import UNet\n",
    "\n",
    "device = \"cuda:0\"\n",
    "model = UNet().to(device)\n",
    "model_path = \"model_pt/P450Diffusion_pre_trained_model.pt\"\n",
    "save_fasta_path = \"P450Diffusion_pre_trained_model_gen_sequences/\"\n",
    "\n",
    "ckpt = torch.load(model_path)\n",
    "model.load_state_dict(ckpt)\n",
    "diffusion = Diffusion(protein_high=560, protein_width=8, device=device)\n",
    "\n",
    "for i in range(400):\n",
    "    sample_sequences = diffusion.sample(model, n=32)\n",
    "    save_sequence(sample_sequences, os.path.join(save_fasta_path, \"gen_{0}.fasta\".format(i)))\n",
    "print(\"over!\")"
   ]
  }
 ],
 "metadata": {
  "kernelspec": {
   "display_name": "Python 3 (ipykernel)",
   "language": "python",
   "name": "python3"
  },
  "language_info": {
   "codemirror_mode": {
    "name": "ipython",
    "version": 3
   },
   "file_extension": ".py",
   "mimetype": "text/x-python",
   "name": "python",
   "nbconvert_exporter": "python",
   "pygments_lexer": "ipython3",
   "version": "3.9.13"
  }
 },
 "nbformat": 4,
 "nbformat_minor": 5
}
